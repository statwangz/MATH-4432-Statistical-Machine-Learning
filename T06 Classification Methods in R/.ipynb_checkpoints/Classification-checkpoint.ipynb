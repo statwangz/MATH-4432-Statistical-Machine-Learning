{
 "cells": [
  {
   "cell_type": "markdown",
   "id": "d22b2298-2ce0-43c7-a4df-5fcc4d491d9c",
   "metadata": {},
   "source": [
    "# Classification Methods\n",
    "\n",
    "- TA: WANG Zhiwei, HKUST\n",
    "\n",
    "- Date: 2022-10-18"
   ]
  },
  {
   "cell_type": "code",
   "execution_count": 1,
   "id": "5984c225-d985-4313-9b4d-4b4c8afcb8fb",
   "metadata": {},
   "outputs": [],
   "source": [
    "set.seed(20221016)"
   ]
  },
  {
   "cell_type": "markdown",
   "id": "eade0cb9-c298-4317-b2ff-9fa00f981544",
   "metadata": {},
   "source": [
    "In this tutorial, we will introduce four widely-used classification methods and how to use them in R programming language.\n",
    "- Logistic regression\n",
    "- LDA\n",
    "- QDA\n",
    "- KNN\n",
    "\n",
    "We will also introduce the receiver operating characteristic curve (ROC curve) to evaluate the performances of the methods.\n",
    "\n",
    "We use `Smarket` data from the `ISLR2` package to demonstrate."
   ]
  },
  {
   "cell_type": "code",
   "execution_count": 2,
   "id": "4d019558-919c-4710-a512-a6e13494ef86",
   "metadata": {},
   "outputs": [
    {
     "data": {
      "text/html": [
       "<style>\n",
       ".list-inline {list-style: none; margin:0; padding: 0}\n",
       ".list-inline>li {display: inline-block}\n",
       ".list-inline>li:not(:last-child)::after {content: \"\\00b7\"; padding: 0 .5ex}\n",
       "</style>\n",
       "<ol class=list-inline><li>1250</li><li>9</li></ol>\n"
      ],
      "text/latex": [
       "\\begin{enumerate*}\n",
       "\\item 1250\n",
       "\\item 9\n",
       "\\end{enumerate*}\n"
      ],
      "text/markdown": [
       "1. 1250\n",
       "2. 9\n",
       "\n",
       "\n"
      ],
      "text/plain": [
       "[1] 1250    9"
      ]
     },
     "metadata": {},
     "output_type": "display_data"
    },
    {
     "data": {
      "text/html": [
       "<table class=\"dataframe\">\n",
       "<caption>A data.frame: 6 × 9</caption>\n",
       "<thead>\n",
       "\t<tr><th></th><th scope=col>Year</th><th scope=col>Lag1</th><th scope=col>Lag2</th><th scope=col>Lag3</th><th scope=col>Lag4</th><th scope=col>Lag5</th><th scope=col>Volume</th><th scope=col>Today</th><th scope=col>Direction</th></tr>\n",
       "\t<tr><th></th><th scope=col>&lt;dbl&gt;</th><th scope=col>&lt;dbl&gt;</th><th scope=col>&lt;dbl&gt;</th><th scope=col>&lt;dbl&gt;</th><th scope=col>&lt;dbl&gt;</th><th scope=col>&lt;dbl&gt;</th><th scope=col>&lt;dbl&gt;</th><th scope=col>&lt;dbl&gt;</th><th scope=col>&lt;fct&gt;</th></tr>\n",
       "</thead>\n",
       "<tbody>\n",
       "\t<tr><th scope=row>1</th><td>2001</td><td> 0.381</td><td>-0.192</td><td>-2.624</td><td>-1.055</td><td> 5.010</td><td>1.1913</td><td> 0.959</td><td>Up  </td></tr>\n",
       "\t<tr><th scope=row>2</th><td>2001</td><td> 0.959</td><td> 0.381</td><td>-0.192</td><td>-2.624</td><td>-1.055</td><td>1.2965</td><td> 1.032</td><td>Up  </td></tr>\n",
       "\t<tr><th scope=row>3</th><td>2001</td><td> 1.032</td><td> 0.959</td><td> 0.381</td><td>-0.192</td><td>-2.624</td><td>1.4112</td><td>-0.623</td><td>Down</td></tr>\n",
       "\t<tr><th scope=row>4</th><td>2001</td><td>-0.623</td><td> 1.032</td><td> 0.959</td><td> 0.381</td><td>-0.192</td><td>1.2760</td><td> 0.614</td><td>Up  </td></tr>\n",
       "\t<tr><th scope=row>5</th><td>2001</td><td> 0.614</td><td>-0.623</td><td> 1.032</td><td> 0.959</td><td> 0.381</td><td>1.2057</td><td> 0.213</td><td>Up  </td></tr>\n",
       "\t<tr><th scope=row>6</th><td>2001</td><td> 0.213</td><td> 0.614</td><td>-0.623</td><td> 1.032</td><td> 0.959</td><td>1.3491</td><td> 1.392</td><td>Up  </td></tr>\n",
       "</tbody>\n",
       "</table>\n"
      ],
      "text/latex": [
       "A data.frame: 6 × 9\n",
       "\\begin{tabular}{r|lllllllll}\n",
       "  & Year & Lag1 & Lag2 & Lag3 & Lag4 & Lag5 & Volume & Today & Direction\\\\\n",
       "  & <dbl> & <dbl> & <dbl> & <dbl> & <dbl> & <dbl> & <dbl> & <dbl> & <fct>\\\\\n",
       "\\hline\n",
       "\t1 & 2001 &  0.381 & -0.192 & -2.624 & -1.055 &  5.010 & 1.1913 &  0.959 & Up  \\\\\n",
       "\t2 & 2001 &  0.959 &  0.381 & -0.192 & -2.624 & -1.055 & 1.2965 &  1.032 & Up  \\\\\n",
       "\t3 & 2001 &  1.032 &  0.959 &  0.381 & -0.192 & -2.624 & 1.4112 & -0.623 & Down\\\\\n",
       "\t4 & 2001 & -0.623 &  1.032 &  0.959 &  0.381 & -0.192 & 1.2760 &  0.614 & Up  \\\\\n",
       "\t5 & 2001 &  0.614 & -0.623 &  1.032 &  0.959 &  0.381 & 1.2057 &  0.213 & Up  \\\\\n",
       "\t6 & 2001 &  0.213 &  0.614 & -0.623 &  1.032 &  0.959 & 1.3491 &  1.392 & Up  \\\\\n",
       "\\end{tabular}\n"
      ],
      "text/markdown": [
       "\n",
       "A data.frame: 6 × 9\n",
       "\n",
       "| <!--/--> | Year &lt;dbl&gt; | Lag1 &lt;dbl&gt; | Lag2 &lt;dbl&gt; | Lag3 &lt;dbl&gt; | Lag4 &lt;dbl&gt; | Lag5 &lt;dbl&gt; | Volume &lt;dbl&gt; | Today &lt;dbl&gt; | Direction &lt;fct&gt; |\n",
       "|---|---|---|---|---|---|---|---|---|---|\n",
       "| 1 | 2001 |  0.381 | -0.192 | -2.624 | -1.055 |  5.010 | 1.1913 |  0.959 | Up   |\n",
       "| 2 | 2001 |  0.959 |  0.381 | -0.192 | -2.624 | -1.055 | 1.2965 |  1.032 | Up   |\n",
       "| 3 | 2001 |  1.032 |  0.959 |  0.381 | -0.192 | -2.624 | 1.4112 | -0.623 | Down |\n",
       "| 4 | 2001 | -0.623 |  1.032 |  0.959 |  0.381 | -0.192 | 1.2760 |  0.614 | Up   |\n",
       "| 5 | 2001 |  0.614 | -0.623 |  1.032 |  0.959 |  0.381 | 1.2057 |  0.213 | Up   |\n",
       "| 6 | 2001 |  0.213 |  0.614 | -0.623 |  1.032 |  0.959 | 1.3491 |  1.392 | Up   |\n",
       "\n"
      ],
      "text/plain": [
       "  Year Lag1   Lag2   Lag3   Lag4   Lag5   Volume Today  Direction\n",
       "1 2001  0.381 -0.192 -2.624 -1.055  5.010 1.1913  0.959 Up       \n",
       "2 2001  0.959  0.381 -0.192 -2.624 -1.055 1.2965  1.032 Up       \n",
       "3 2001  1.032  0.959  0.381 -0.192 -2.624 1.4112 -0.623 Down     \n",
       "4 2001 -0.623  1.032  0.959  0.381 -0.192 1.2760  0.614 Up       \n",
       "5 2001  0.614 -0.623  1.032  0.959  0.381 1.2057  0.213 Up       \n",
       "6 2001  0.213  0.614 -0.623  1.032  0.959 1.3491  1.392 Up       "
      ]
     },
     "metadata": {},
     "output_type": "display_data"
    },
    {
     "data": {
      "text/plain": [
       "      Year           Lag1                Lag2                Lag3          \n",
       " Min.   :2001   Min.   :-4.922000   Min.   :-4.922000   Min.   :-4.922000  \n",
       " 1st Qu.:2002   1st Qu.:-0.639500   1st Qu.:-0.639500   1st Qu.:-0.640000  \n",
       " Median :2003   Median : 0.039000   Median : 0.039000   Median : 0.038500  \n",
       " Mean   :2003   Mean   : 0.003834   Mean   : 0.003919   Mean   : 0.001716  \n",
       " 3rd Qu.:2004   3rd Qu.: 0.596750   3rd Qu.: 0.596750   3rd Qu.: 0.596750  \n",
       " Max.   :2005   Max.   : 5.733000   Max.   : 5.733000   Max.   : 5.733000  \n",
       "      Lag4                Lag5              Volume           Today          \n",
       " Min.   :-4.922000   Min.   :-4.92200   Min.   :0.3561   Min.   :-4.922000  \n",
       " 1st Qu.:-0.640000   1st Qu.:-0.64000   1st Qu.:1.2574   1st Qu.:-0.639500  \n",
       " Median : 0.038500   Median : 0.03850   Median :1.4229   Median : 0.038500  \n",
       " Mean   : 0.001636   Mean   : 0.00561   Mean   :1.4783   Mean   : 0.003138  \n",
       " 3rd Qu.: 0.596750   3rd Qu.: 0.59700   3rd Qu.:1.6417   3rd Qu.: 0.596750  \n",
       " Max.   : 5.733000   Max.   : 5.73300   Max.   :3.1525   Max.   : 5.733000  \n",
       " Direction \n",
       " Down:602  \n",
       " Up  :648  \n",
       "           \n",
       "           \n",
       "           \n",
       "           "
      ]
     },
     "metadata": {},
     "output_type": "display_data"
    }
   ],
   "source": [
    "library(ISLR2)\n",
    "\n",
    "# We first take a look at the data\n",
    "dim(Smarket)\n",
    "head(Smarket)\n",
    "summary(Smarket)"
   ]
  },
  {
   "cell_type": "markdown",
   "id": "c066013d-558b-4deb-acd3-123d18ba715a",
   "metadata": {},
   "source": [
    "## Logistic regression\n",
    "- we will fit a logistic regression model in order to predict Direction using `Lag1` through `Lag5` and `Volume`. \n",
    "- The `glm()` function fits **generalized linear models**, a class of models that includes **logistic regression**. \n",
    "- The syntax of `glm()` function is similar to that of `lm()`, except that we must pass in linear model the argument `family = binomial` in order to tell `R` to run a logistic regression rather than some other type of generalized linear model."
   ]
  },
  {
   "cell_type": "code",
   "execution_count": 3,
   "id": "f90bbe12-90ca-4365-9f13-df5cca46c702",
   "metadata": {},
   "outputs": [],
   "source": [
    "# Logistic Regression\n",
    "glm.fits <- glm(Direction ~ Lag1 + Lag2 + Lag3 + Lag4 + Lag5 + Volume, data = Smarket, family = binomial)"
   ]
  },
  {
   "cell_type": "code",
   "execution_count": 4,
   "id": "000ce09c-85ac-4a47-9896-2ccb287bb0a0",
   "metadata": {},
   "outputs": [
    {
     "data": {
      "text/plain": [
       "\n",
       "Call:\n",
       "glm(formula = Direction ~ Lag1 + Lag2 + Lag3 + Lag4 + Lag5 + \n",
       "    Volume, family = binomial, data = Smarket)\n",
       "\n",
       "Deviance Residuals: \n",
       "   Min      1Q  Median      3Q     Max  \n",
       "-1.446  -1.203   1.065   1.145   1.326  \n",
       "\n",
       "Coefficients:\n",
       "             Estimate Std. Error z value Pr(>|z|)\n",
       "(Intercept) -0.126000   0.240736  -0.523    0.601\n",
       "Lag1        -0.073074   0.050167  -1.457    0.145\n",
       "Lag2        -0.042301   0.050086  -0.845    0.398\n",
       "Lag3         0.011085   0.049939   0.222    0.824\n",
       "Lag4         0.009359   0.049974   0.187    0.851\n",
       "Lag5         0.010313   0.049511   0.208    0.835\n",
       "Volume       0.135441   0.158360   0.855    0.392\n",
       "\n",
       "(Dispersion parameter for binomial family taken to be 1)\n",
       "\n",
       "    Null deviance: 1731.2  on 1249  degrees of freedom\n",
       "Residual deviance: 1727.6  on 1243  degrees of freedom\n",
       "AIC: 1741.6\n",
       "\n",
       "Number of Fisher Scoring iterations: 3\n"
      ]
     },
     "metadata": {},
     "output_type": "display_data"
    }
   ],
   "source": [
    "summary(glm.fits)"
   ]
  },
  {
   "cell_type": "code",
   "execution_count": 5,
   "id": "6117a83a-7ab4-4703-8412-00256d397df3",
   "metadata": {},
   "outputs": [
    {
     "data": {
      "text/html": [
       "<style>\n",
       ".dl-inline {width: auto; margin:0; padding: 0}\n",
       ".dl-inline>dt, .dl-inline>dd {float: none; width: auto; display: inline-block}\n",
       ".dl-inline>dt::after {content: \":\\0020\"; padding-right: .5ex}\n",
       ".dl-inline>dt:not(:first-of-type) {padding-left: .5ex}\n",
       "</style><dl class=dl-inline><dt>(Intercept)</dt><dd>-0.12600025655927</dd><dt>Lag1</dt><dd>-0.0730737458900262</dd><dt>Lag2</dt><dd>-0.0423013440073082</dd><dt>Lag3</dt><dd>0.0110851083796764</dd><dt>Lag4</dt><dd>0.00935893837027878</dd><dt>Lag5</dt><dd>0.0103130684758178</dd><dt>Volume</dt><dd>0.135440658859163</dd></dl>\n"
      ],
      "text/latex": [
       "\\begin{description*}\n",
       "\\item[(Intercept)] -0.12600025655927\n",
       "\\item[Lag1] -0.0730737458900262\n",
       "\\item[Lag2] -0.0423013440073082\n",
       "\\item[Lag3] 0.0110851083796764\n",
       "\\item[Lag4] 0.00935893837027878\n",
       "\\item[Lag5] 0.0103130684758178\n",
       "\\item[Volume] 0.135440658859163\n",
       "\\end{description*}\n"
      ],
      "text/markdown": [
       "(Intercept)\n",
       ":   -0.12600025655927Lag1\n",
       ":   -0.0730737458900262Lag2\n",
       ":   -0.0423013440073082Lag3\n",
       ":   0.0110851083796764Lag4\n",
       ":   0.00935893837027878Lag5\n",
       ":   0.0103130684758178Volume\n",
       ":   0.135440658859163\n",
       "\n"
      ],
      "text/plain": [
       " (Intercept)         Lag1         Lag2         Lag3         Lag4         Lag5 \n",
       "-0.126000257 -0.073073746 -0.042301344  0.011085108  0.009358938  0.010313068 \n",
       "      Volume \n",
       " 0.135440659 "
      ]
     },
     "metadata": {},
     "output_type": "display_data"
    }
   ],
   "source": [
    "coef(glm.fits)"
   ]
  },
  {
   "cell_type": "code",
   "execution_count": 6,
   "id": "2f4434de-3b04-4741-8200-34988412a424",
   "metadata": {},
   "outputs": [
    {
     "data": {
      "text/html": [
       "<table class=\"dataframe\">\n",
       "<caption>A matrix: 7 × 4 of type dbl</caption>\n",
       "<thead>\n",
       "\t<tr><th></th><th scope=col>Estimate</th><th scope=col>Std. Error</th><th scope=col>z value</th><th scope=col>Pr(&gt;|z|)</th></tr>\n",
       "</thead>\n",
       "<tbody>\n",
       "\t<tr><th scope=row>(Intercept)</th><td>-0.126000257</td><td>0.24073574</td><td>-0.5233966</td><td>0.6006983</td></tr>\n",
       "\t<tr><th scope=row>Lag1</th><td>-0.073073746</td><td>0.05016739</td><td>-1.4565986</td><td>0.1452272</td></tr>\n",
       "\t<tr><th scope=row>Lag2</th><td>-0.042301344</td><td>0.05008605</td><td>-0.8445733</td><td>0.3983491</td></tr>\n",
       "\t<tr><th scope=row>Lag3</th><td> 0.011085108</td><td>0.04993854</td><td> 0.2219750</td><td>0.8243333</td></tr>\n",
       "\t<tr><th scope=row>Lag4</th><td> 0.009358938</td><td>0.04997413</td><td> 0.1872757</td><td>0.8514445</td></tr>\n",
       "\t<tr><th scope=row>Lag5</th><td> 0.010313068</td><td>0.04951146</td><td> 0.2082966</td><td>0.8349974</td></tr>\n",
       "\t<tr><th scope=row>Volume</th><td> 0.135440659</td><td>0.15835970</td><td> 0.8552723</td><td>0.3924004</td></tr>\n",
       "</tbody>\n",
       "</table>\n"
      ],
      "text/latex": [
       "A matrix: 7 × 4 of type dbl\n",
       "\\begin{tabular}{r|llll}\n",
       "  & Estimate & Std. Error & z value & Pr(>\\textbar{}z\\textbar{})\\\\\n",
       "\\hline\n",
       "\t(Intercept) & -0.126000257 & 0.24073574 & -0.5233966 & 0.6006983\\\\\n",
       "\tLag1 & -0.073073746 & 0.05016739 & -1.4565986 & 0.1452272\\\\\n",
       "\tLag2 & -0.042301344 & 0.05008605 & -0.8445733 & 0.3983491\\\\\n",
       "\tLag3 &  0.011085108 & 0.04993854 &  0.2219750 & 0.8243333\\\\\n",
       "\tLag4 &  0.009358938 & 0.04997413 &  0.1872757 & 0.8514445\\\\\n",
       "\tLag5 &  0.010313068 & 0.04951146 &  0.2082966 & 0.8349974\\\\\n",
       "\tVolume &  0.135440659 & 0.15835970 &  0.8552723 & 0.3924004\\\\\n",
       "\\end{tabular}\n"
      ],
      "text/markdown": [
       "\n",
       "A matrix: 7 × 4 of type dbl\n",
       "\n",
       "| <!--/--> | Estimate | Std. Error | z value | Pr(&gt;|z|) |\n",
       "|---|---|---|---|---|\n",
       "| (Intercept) | -0.126000257 | 0.24073574 | -0.5233966 | 0.6006983 |\n",
       "| Lag1 | -0.073073746 | 0.05016739 | -1.4565986 | 0.1452272 |\n",
       "| Lag2 | -0.042301344 | 0.05008605 | -0.8445733 | 0.3983491 |\n",
       "| Lag3 |  0.011085108 | 0.04993854 |  0.2219750 | 0.8243333 |\n",
       "| Lag4 |  0.009358938 | 0.04997413 |  0.1872757 | 0.8514445 |\n",
       "| Lag5 |  0.010313068 | 0.04951146 |  0.2082966 | 0.8349974 |\n",
       "| Volume |  0.135440659 | 0.15835970 |  0.8552723 | 0.3924004 |\n",
       "\n"
      ],
      "text/plain": [
       "            Estimate     Std. Error z value    Pr(>|z|) \n",
       "(Intercept) -0.126000257 0.24073574 -0.5233966 0.6006983\n",
       "Lag1        -0.073073746 0.05016739 -1.4565986 0.1452272\n",
       "Lag2        -0.042301344 0.05008605 -0.8445733 0.3983491\n",
       "Lag3         0.011085108 0.04993854  0.2219750 0.8243333\n",
       "Lag4         0.009358938 0.04997413  0.1872757 0.8514445\n",
       "Lag5         0.010313068 0.04951146  0.2082966 0.8349974\n",
       "Volume       0.135440659 0.15835970  0.8552723 0.3924004"
      ]
     },
     "metadata": {},
     "output_type": "display_data"
    }
   ],
   "source": [
    "summary(glm.fits)$coef"
   ]
  },
  {
   "cell_type": "markdown",
   "id": "a48567c5-9909-4340-8d59-fe9828515eb0",
   "metadata": {},
   "source": [
    "- The `predict()` function can be used to predict the probability that the market will go up, given values of the predictors. By default it returns the logit values, e.g., $log(\\frac{Pr(Y = 1|X)}{Pr(Y = 0|X)})$."
   ]
  },
  {
   "cell_type": "code",
   "execution_count": 7,
   "id": "cf2a223a-6786-4032-a3ea-084c0e42d107",
   "metadata": {},
   "outputs": [
    {
     "data": {
      "text/html": [
       "<style>\n",
       ".dl-inline {width: auto; margin:0; padding: 0}\n",
       ".dl-inline>dt, .dl-inline>dd {float: none; width: auto; display: inline-block}\n",
       ".dl-inline>dt::after {content: \":\\0020\"; padding-right: .5ex}\n",
       ".dl-inline>dt:not(:first-of-type) {padding-left: .5ex}\n",
       "</style><dl class=dl-inline><dt>1</dt><dd>0.0283384298998853</dd><dt>2</dt><dd>-0.0741624590581827</dd><dt>3</dt><dd>-0.0754804749937183</dd><dt>4</dt><dd>0.0609082461267943</dd><dt>5</dt><dd>0.0431313360015089</dd><dt>6</dt><dd>0.0278276377584617</dd><dt>7</dt><dd>-0.0293986204527719</dd><dt>8</dt><dd>0.0369208263019541</dd><dt>9</dt><dd>0.0704832696302405</dd><dt>10</dt><dd>-0.0446563005126002</dd></dl>\n"
      ],
      "text/latex": [
       "\\begin{description*}\n",
       "\\item[1] 0.0283384298998853\n",
       "\\item[2] -0.0741624590581827\n",
       "\\item[3] -0.0754804749937183\n",
       "\\item[4] 0.0609082461267943\n",
       "\\item[5] 0.0431313360015089\n",
       "\\item[6] 0.0278276377584617\n",
       "\\item[7] -0.0293986204527719\n",
       "\\item[8] 0.0369208263019541\n",
       "\\item[9] 0.0704832696302405\n",
       "\\item[10] -0.0446563005126002\n",
       "\\end{description*}\n"
      ],
      "text/markdown": [
       "1\n",
       ":   0.02833842989988532\n",
       ":   -0.07416245905818273\n",
       ":   -0.07548047499371834\n",
       ":   0.06090824612679435\n",
       ":   0.04313133600150896\n",
       ":   0.02782763775846177\n",
       ":   -0.02939862045277198\n",
       ":   0.03692082630195419\n",
       ":   0.070483269630240510\n",
       ":   -0.0446563005126002\n",
       "\n"
      ],
      "text/plain": [
       "          1           2           3           4           5           6 \n",
       " 0.02833843 -0.07416246 -0.07548047  0.06090825  0.04313134  0.02782764 \n",
       "          7           8           9          10 \n",
       "-0.02939862  0.03692083  0.07048327 -0.04465630 "
      ]
     },
     "metadata": {},
     "output_type": "display_data"
    }
   ],
   "source": [
    "glm.y <- predict(glm.fits)\n",
    "glm.y[1:10]"
   ]
  },
  {
   "cell_type": "markdown",
   "id": "6707e4eb-fe1a-4620-b667-f86df53a34d7",
   "metadata": {},
   "source": [
    "- The `type = \"response\"` option tells R to output probabilities of the form $Pr(Y = 1|X)$."
   ]
  },
  {
   "cell_type": "code",
   "execution_count": 8,
   "id": "88f01214-dced-42b9-a859-bbff544387a6",
   "metadata": {},
   "outputs": [
    {
     "data": {
      "text/html": [
       "<style>\n",
       ".dl-inline {width: auto; margin:0; padding: 0}\n",
       ".dl-inline>dt, .dl-inline>dd {float: none; width: auto; display: inline-block}\n",
       ".dl-inline>dt::after {content: \":\\0020\"; padding-right: .5ex}\n",
       ".dl-inline>dt:not(:first-of-type) {padding-left: .5ex}\n",
       "</style><dl class=dl-inline><dt>1</dt><dd>0.507084133395401</dd><dt>2</dt><dd>0.481467878454591</dd><dt>3</dt><dd>0.481138835214201</dd><dt>4</dt><dd>0.515222355813022</dd><dt>5</dt><dd>0.510781162691538</dd><dt>6</dt><dd>0.50695646053491</dd><dt>7</dt><dd>0.492650874187038</dd><dt>8</dt><dd>0.509229158207377</dd><dt>9</dt><dd>0.517613526170958</dd><dt>10</dt><dd>0.488837779771376</dd></dl>\n"
      ],
      "text/latex": [
       "\\begin{description*}\n",
       "\\item[1] 0.507084133395401\n",
       "\\item[2] 0.481467878454591\n",
       "\\item[3] 0.481138835214201\n",
       "\\item[4] 0.515222355813022\n",
       "\\item[5] 0.510781162691538\n",
       "\\item[6] 0.50695646053491\n",
       "\\item[7] 0.492650874187038\n",
       "\\item[8] 0.509229158207377\n",
       "\\item[9] 0.517613526170958\n",
       "\\item[10] 0.488837779771376\n",
       "\\end{description*}\n"
      ],
      "text/markdown": [
       "1\n",
       ":   0.5070841333954012\n",
       ":   0.4814678784545913\n",
       ":   0.4811388352142014\n",
       ":   0.5152223558130225\n",
       ":   0.5107811626915386\n",
       ":   0.506956460534917\n",
       ":   0.4926508741870388\n",
       ":   0.5092291582073779\n",
       ":   0.51761352617095810\n",
       ":   0.488837779771376\n",
       "\n"
      ],
      "text/plain": [
       "        1         2         3         4         5         6         7         8 \n",
       "0.5070841 0.4814679 0.4811388 0.5152224 0.5107812 0.5069565 0.4926509 0.5092292 \n",
       "        9        10 \n",
       "0.5176135 0.4888378 "
      ]
     },
     "metadata": {},
     "output_type": "display_data"
    },
    {
     "data": {
      "text/html": [
       "<style>\n",
       ".dl-inline {width: auto; margin:0; padding: 0}\n",
       ".dl-inline>dt, .dl-inline>dd {float: none; width: auto; display: inline-block}\n",
       ".dl-inline>dt::after {content: \":\\0020\"; padding-right: .5ex}\n",
       ".dl-inline>dt:not(:first-of-type) {padding-left: .5ex}\n",
       "</style><dl class=dl-inline><dt>1</dt><dd>0.0283384298998852</dd><dt>2</dt><dd>-0.0741624590581826</dd><dt>3</dt><dd>-0.0754804749937182</dd><dt>4</dt><dd>0.0609082461267946</dd><dt>5</dt><dd>0.0431313360015092</dd><dt>6</dt><dd>0.027827637758462</dd><dt>7</dt><dd>-0.0293986204527719</dd><dt>8</dt><dd>0.036920826301954</dd><dt>9</dt><dd>0.070483269630241</dd><dt>10</dt><dd>-0.0446563005126001</dd></dl>\n"
      ],
      "text/latex": [
       "\\begin{description*}\n",
       "\\item[1] 0.0283384298998852\n",
       "\\item[2] -0.0741624590581826\n",
       "\\item[3] -0.0754804749937182\n",
       "\\item[4] 0.0609082461267946\n",
       "\\item[5] 0.0431313360015092\n",
       "\\item[6] 0.027827637758462\n",
       "\\item[7] -0.0293986204527719\n",
       "\\item[8] 0.036920826301954\n",
       "\\item[9] 0.070483269630241\n",
       "\\item[10] -0.0446563005126001\n",
       "\\end{description*}\n"
      ],
      "text/markdown": [
       "1\n",
       ":   0.02833842989988522\n",
       ":   -0.07416245905818263\n",
       ":   -0.07548047499371824\n",
       ":   0.06090824612679465\n",
       ":   0.04313133600150926\n",
       ":   0.0278276377584627\n",
       ":   -0.02939862045277198\n",
       ":   0.0369208263019549\n",
       ":   0.07048326963024110\n",
       ":   -0.0446563005126001\n",
       "\n"
      ],
      "text/plain": [
       "          1           2           3           4           5           6 \n",
       " 0.02833843 -0.07416246 -0.07548047  0.06090825  0.04313134  0.02782764 \n",
       "          7           8           9          10 \n",
       "-0.02939862  0.03692083  0.07048327 -0.04465630 "
      ]
     },
     "metadata": {},
     "output_type": "display_data"
    }
   ],
   "source": [
    "glm.probs <- predict(glm.fits, type = \"response\")\n",
    "glm.probs[1:10]\n",
    "\n",
    "log(glm.probs[1:10] / (1 - glm.probs[1:10])) # logit, the same as the output of the above cell"
   ]
  },
  {
   "cell_type": "markdown",
   "id": "85b3b3af-4363-4b17-a1ea-6a07fa434d0d",
   "metadata": {},
   "source": [
    "- We can check the prediction performance by producing a table and compute the accuracy."
   ]
  },
  {
   "cell_type": "code",
   "execution_count": 9,
   "id": "1f255c9c-ed39-45ee-81af-c695d9a0ae56",
   "metadata": {},
   "outputs": [
    {
     "data": {
      "text/html": [
       "<style>\n",
       ".list-inline {list-style: none; margin:0; padding: 0}\n",
       ".list-inline>li {display: inline-block}\n",
       ".list-inline>li:not(:last-child)::after {content: \"\\00b7\"; padding: 0 .5ex}\n",
       "</style>\n",
       "<ol class=list-inline><li>'Up'</li><li>'Down'</li><li>'Down'</li><li>'Up'</li><li>'Up'</li><li>'Up'</li></ol>\n"
      ],
      "text/latex": [
       "\\begin{enumerate*}\n",
       "\\item 'Up'\n",
       "\\item 'Down'\n",
       "\\item 'Down'\n",
       "\\item 'Up'\n",
       "\\item 'Up'\n",
       "\\item 'Up'\n",
       "\\end{enumerate*}\n"
      ],
      "text/markdown": [
       "1. 'Up'\n",
       "2. 'Down'\n",
       "3. 'Down'\n",
       "4. 'Up'\n",
       "5. 'Up'\n",
       "6. 'Up'\n",
       "\n",
       "\n"
      ],
      "text/plain": [
       "[1] \"Up\"   \"Down\" \"Down\" \"Up\"   \"Up\"   \"Up\"  "
      ]
     },
     "metadata": {},
     "output_type": "display_data"
    }
   ],
   "source": [
    "# Predicted value\n",
    "glm.pred <- rep(\"Down\", 1250)\n",
    "glm.pred[glm.probs > .5] <- \"Up\"\n",
    "\n",
    "glm.pred[1:6]"
   ]
  },
  {
   "cell_type": "code",
   "execution_count": 10,
   "id": "23095bfe-a606-41dd-9d81-a230824c4ceb",
   "metadata": {},
   "outputs": [
    {
     "data": {
      "text/html": [
       "<style>\n",
       ".list-inline {list-style: none; margin:0; padding: 0}\n",
       ".list-inline>li {display: inline-block}\n",
       ".list-inline>li:not(:last-child)::after {content: \"\\00b7\"; padding: 0 .5ex}\n",
       "</style>\n",
       "<ol class=list-inline><li>Up</li><li>Up</li><li>Down</li><li>Up</li><li>Up</li><li>Up</li></ol>\n",
       "\n",
       "<details>\n",
       "\t<summary style=display:list-item;cursor:pointer>\n",
       "\t\t<strong>Levels</strong>:\n",
       "\t</summary>\n",
       "\t<style>\n",
       "\t.list-inline {list-style: none; margin:0; padding: 0}\n",
       "\t.list-inline>li {display: inline-block}\n",
       "\t.list-inline>li:not(:last-child)::after {content: \"\\00b7\"; padding: 0 .5ex}\n",
       "\t</style>\n",
       "\t<ol class=list-inline><li>'Down'</li><li>'Up'</li></ol>\n",
       "</details>"
      ],
      "text/latex": [
       "\\begin{enumerate*}\n",
       "\\item Up\n",
       "\\item Up\n",
       "\\item Down\n",
       "\\item Up\n",
       "\\item Up\n",
       "\\item Up\n",
       "\\end{enumerate*}\n",
       "\n",
       "\\emph{Levels}: \\begin{enumerate*}\n",
       "\\item 'Down'\n",
       "\\item 'Up'\n",
       "\\end{enumerate*}\n"
      ],
      "text/markdown": [
       "1. Up\n",
       "2. Up\n",
       "3. Down\n",
       "4. Up\n",
       "5. Up\n",
       "6. Up\n",
       "\n",
       "\n",
       "\n",
       "**Levels**: 1. 'Down'\n",
       "2. 'Up'\n",
       "\n",
       "\n"
      ],
      "text/plain": [
       "[1] Up   Up   Down Up   Up   Up  \n",
       "Levels: Down Up"
      ]
     },
     "metadata": {},
     "output_type": "display_data"
    }
   ],
   "source": [
    "# True value\n",
    "Smarket$Direction[1:6]"
   ]
  },
  {
   "cell_type": "code",
   "execution_count": 11,
   "id": "db6411d2-1604-41ed-b267-0067537bb123",
   "metadata": {},
   "outputs": [
    {
     "data": {
      "text/plain": [
       "      True\n",
       "Pred   Down  Up\n",
       "  Down  145 141\n",
       "  Up    457 507"
      ]
     },
     "metadata": {},
     "output_type": "display_data"
    },
    {
     "data": {
      "text/html": [
       "0.5216"
      ],
      "text/latex": [
       "0.5216"
      ],
      "text/markdown": [
       "0.5216"
      ],
      "text/plain": [
       "[1] 0.5216"
      ]
     },
     "metadata": {},
     "output_type": "display_data"
    },
    {
     "data": {
      "text/html": [
       "0.5216"
      ],
      "text/latex": [
       "0.5216"
      ],
      "text/markdown": [
       "0.5216"
      ],
      "text/plain": [
       "[1] 0.5216"
      ]
     },
     "metadata": {},
     "output_type": "display_data"
    }
   ],
   "source": [
    "attach(Smarket)\n",
    "\n",
    "table(data.frame(Pred = glm.pred, True = Direction))\n",
    "\n",
    "(507 + 145) / 1250\n",
    "mean(glm.pred == Direction)"
   ]
  },
  {
   "cell_type": "markdown",
   "id": "fa95a1cd-92a1-496c-b264-79a40c9fe990",
   "metadata": {},
   "source": [
    "- The accuracy only replects the performance under threshold 0.5. We can construct ROC curve to evaluate the general performance under various thresholding value."
   ]
  },
  {
   "cell_type": "code",
   "execution_count": 12,
   "id": "32a67da8-509c-47ea-bac6-a3bca0ecfaf7",
   "metadata": {},
   "outputs": [
    {
     "name": "stderr",
     "output_type": "stream",
     "text": [
      "Type 'citation(\"pROC\")' for a citation.\n",
      "\n",
      "\n",
      "Attaching package: ‘pROC’\n",
      "\n",
      "\n",
      "The following objects are masked from ‘package:stats’:\n",
      "\n",
      "    cov, smooth, var\n",
      "\n",
      "\n",
      "Setting levels: control = Down, case = Up\n",
      "\n",
      "Setting direction: controls < cases\n",
      "\n"
     ]
    },
    {
     "data": {
      "text/plain": [
       "\n",
       "Call:\n",
       "roc.default(response = Direction, predictor = glm.probs, plot = T)\n",
       "\n",
       "Data: glm.probs in 602 controls (Direction Down) < 648 cases (Direction Up).\n",
       "Area under the curve: 0.5387"
      ]
     },
     "metadata": {},
     "output_type": "display_data"
    },
    {
     "data": {
      "image/png": "[encoded data removed]",
      "text/plain": [
       "plot without title"
      ]
     },
     "metadata": {
      "image/png": {
       "height": 420,
       "width": 420
      }
     },
     "output_type": "display_data"
    }
   ],
   "source": [
    "library(pROC)\n",
    "roc(Direction, glm.probs, plot = T)"
   ]
  },
  {
   "cell_type": "markdown",
   "id": "935b6356-8f1d-4299-8208-267c7ca7c61b",
   "metadata": {},
   "source": [
    "- At first glance, it looks a little bit better than random guess. But this result is evaluated on the training set.\n",
    "- Intuitively, the test result will be worse due to the overfitting rpoblem.\n",
    "- Let's fit the model using two independent datasets: fit the model using observations from 2001-2004; test the results using a held-out data of obserations from 2005."
   ]
  },
  {
   "cell_type": "code",
   "execution_count": 13,
   "id": "7c73c5f2-9acb-4dce-94b6-0cf9f3cd8c4b",
   "metadata": {},
   "outputs": [
    {
     "data": {
      "text/html": [
       "<style>\n",
       ".list-inline {list-style: none; margin:0; padding: 0}\n",
       ".list-inline>li {display: inline-block}\n",
       ".list-inline>li:not(:last-child)::after {content: \"\\00b7\"; padding: 0 .5ex}\n",
       "</style>\n",
       "<ol class=list-inline><li>252</li><li>9</li></ol>\n"
      ],
      "text/latex": [
       "\\begin{enumerate*}\n",
       "\\item 252\n",
       "\\item 9\n",
       "\\end{enumerate*}\n"
      ],
      "text/markdown": [
       "1. 252\n",
       "2. 9\n",
       "\n",
       "\n"
      ],
      "text/plain": [
       "[1] 252   9"
      ]
     },
     "metadata": {},
     "output_type": "display_data"
    }
   ],
   "source": [
    "# Use Year to split the dataset\n",
    "train <- (Year < 2005)\n",
    "\n",
    "# Test set\n",
    "Smarket.2005 <- Smarket[!train, ]\n",
    "dim(Smarket.2005)\n",
    "\n",
    "# Response\n",
    "Direction.2005 <- Direction[!train]"
   ]
  },
  {
   "cell_type": "code",
   "execution_count": 14,
   "id": "c448af32-a0e6-4e7d-beb8-da9a806f3f74",
   "metadata": {},
   "outputs": [
    {
     "data": {
      "text/plain": [
       "      True\n",
       "Pred   Down Up\n",
       "  Down   77 97\n",
       "  Up     34 44"
      ]
     },
     "metadata": {},
     "output_type": "display_data"
    },
    {
     "name": "stdout",
     "output_type": "stream",
     "text": [
      "The accuracy is now  0.4801587 .\n",
      "The error rate is now  0.5198413 .\n"
     ]
    }
   ],
   "source": [
    "# Fit the model using training set\n",
    "glm.fits <- glm(Direction ~ Lag1 + Lag2 + Lag3 + Lag4 + Lag5 + Volume, \n",
    "                data = Smarket, \n",
    "                family = binomial, \n",
    "                subset = train)\n",
    "\n",
    "# Predict the probabilities based on the test set\n",
    "glm.probs <- predict(glm.fits, Smarket.2005, type = \"response\")\n",
    "\n",
    "# Make prediction based on the probabilities\n",
    "glm.pred <- rep(\"Down\", 252)\n",
    "glm.pred[glm.probs > .5] <- \"Up\"\n",
    "\n",
    "# Check accuracy\n",
    "table(data.frame(Pred = glm.pred, True = Direction.2005))\n",
    "cat(\"The accuracy is now \", mean(glm.pred == Direction.2005), \".\\n\")\n",
    "cat(\"The error rate is now \", mean(glm.pred != Direction.2005), \".\\n\")"
   ]
  },
  {
   "cell_type": "code",
   "execution_count": 15,
   "id": "48842c1b-980a-4dc1-bd29-0f9e6fae76bd",
   "metadata": {},
   "outputs": [
    {
     "name": "stderr",
     "output_type": "stream",
     "text": [
      "Setting levels: control = Down, case = Up\n",
      "\n",
      "Setting direction: controls < cases\n",
      "\n"
     ]
    },
    {
     "data": {
      "text/plain": [
       "\n",
       "Call:\n",
       "roc.default(response = Direction.2005, predictor = glm.probs,     plot = TRUE)\n",
       "\n",
       "Data: glm.probs in 111 controls (Direction.2005 Down) < 141 cases (Direction.2005 Up).\n",
       "Area under the curve: 0.5197"
      ]
     },
     "metadata": {},
     "output_type": "display_data"
    },
    {
     "data": {
      "image/png": "[encoded data removed]",
      "text/plain": [
       "plot without title"
      ]
     },
     "metadata": {
      "image/png": {
       "height": 420,
       "width": 420
      }
     },
     "output_type": "display_data"
    }
   ],
   "source": [
    "roc(Direction.2005, glm.probs, plot = TRUE)"
   ]
  },
  {
   "cell_type": "markdown",
   "id": "7708a24b-a9a8-4632-8697-714fb9146ddc",
   "metadata": {},
   "source": [
    "- Now, the test error rate is $52\\%$, which is worse than random guessing!\n",
    "- Prediction AUC is $0.52$, slightly better than random guess but worse than training AUC (as expected).\n",
    "- We find descrepency between AUC and prediction accuracy, because the former accounts for the entire cutoff range."
   ]
  },
  {
   "cell_type": "markdown",
   "id": "06d7501f-5e9c-40af-8108-98ee79aa29df",
   "metadata": {},
   "source": [
    "- Of course this result is not all that surprising, given that one would not generally expect to be able to use previous days’ returns to predict future market performance.\n",
    "- We recall that the logistic regression model had very underwhelming pvalues associated with all of the predictors, and that the smallest p-value, though not very small, corresponded to `Lag1`.\n",
    "- Perhaps by removing the variables that appear not to be helpful in predicting `Direction`, we can obtain a more effective model.\n",
    "- Below we have refit the logistic regression using just `Lag1` and `Lag2`, which seemed to have the highest predictive power in the original logistic regression model."
   ]
  },
  {
   "cell_type": "code",
   "execution_count": 16,
   "id": "54e41484-1e45-48d3-b892-9042da4f5ab9",
   "metadata": {},
   "outputs": [
    {
     "data": {
      "text/plain": [
       "      True\n",
       "Pred   Down  Up\n",
       "  Down   35  35\n",
       "  Up     76 106"
      ]
     },
     "metadata": {},
     "output_type": "display_data"
    },
    {
     "data": {
      "text/html": [
       "0.55952380952381"
      ],
      "text/latex": [
       "0.55952380952381"
      ],
      "text/markdown": [
       "0.55952380952381"
      ],
      "text/plain": [
       "[1] 0.5595238"
      ]
     },
     "metadata": {},
     "output_type": "display_data"
    }
   ],
   "source": [
    "glm.fits <- glm(Direction ~ Lag1 + Lag2, \n",
    "                data = Smarket, \n",
    "                family = binomial, \n",
    "                subset = train)\n",
    "\n",
    "glm.probs <- predict(glm.fits, Smarket.2005, type = \"response\")\n",
    "\n",
    "glm.pred <- rep(\"Down\", 252)\n",
    "glm.pred[glm.probs > .5] <- \"Up\"\n",
    "\n",
    "table(data.frame(Pred = glm.pred, True = Direction.2005))\n",
    "mean(glm.pred == Direction.2005)"
   ]
  },
  {
   "cell_type": "code",
   "execution_count": 17,
   "id": "e0f95bac-b8ba-409c-9291-76f6d7c84ba4",
   "metadata": {},
   "outputs": [
    {
     "name": "stderr",
     "output_type": "stream",
     "text": [
      "Setting levels: control = Down, case = Up\n",
      "\n",
      "Setting direction: controls < cases\n",
      "\n"
     ]
    },
    {
     "data": {
      "text/plain": [
       "\n",
       "Call:\n",
       "roc.default(response = Direction.2005, predictor = glm.probs,     plot = TRUE)\n",
       "\n",
       "Data: glm.probs in 111 controls (Direction.2005 Down) < 141 cases (Direction.2005 Up).\n",
       "Area under the curve: 0.5584"
      ]
     },
     "metadata": {},
     "output_type": "display_data"
    },
    {
     "data": {
      "image/png": "[encoded data removed]",
      "text/plain": [
       "plot without title"
      ]
     },
     "metadata": {
      "image/png": {
       "height": 420,
       "width": 420
      }
     },
     "output_type": "display_data"
    }
   ],
   "source": [
    "roc(Direction.2005, glm.probs, plot = TRUE)"
   ]
  },
  {
   "cell_type": "markdown",
   "id": "8f65a299-034d-4116-9452-3e8fb34b25b5",
   "metadata": {},
   "source": [
    "## LDA\n",
    "In R, we fit an LDA modelusing the `lda()` function, which is part of the `MASS` library. \n",
    "- Notice that the  syntax for the `lda()` function is identical to that of `lm()`, and to that of `glm()` except for the absence of the `family` option."
   ]
  },
  {
   "cell_type": "code",
   "execution_count": 18,
   "id": "ee8a430a-cfdd-43c9-9822-0a2ebb342132",
   "metadata": {},
   "outputs": [
    {
     "name": "stderr",
     "output_type": "stream",
     "text": [
      "\n",
      "Attaching package: ‘MASS’\n",
      "\n",
      "\n",
      "The following object is masked from ‘package:ISLR2’:\n",
      "\n",
      "    Boston\n",
      "\n",
      "\n"
     ]
    },
    {
     "data": {
      "text/plain": [
       "Call:\n",
       "lda(Direction ~ Lag1 + Lag2, data = Smarket, subset = train)\n",
       "\n",
       "Prior probabilities of groups:\n",
       "    Down       Up \n",
       "0.491984 0.508016 \n",
       "\n",
       "Group means:\n",
       "            Lag1        Lag2\n",
       "Down  0.04279022  0.03389409\n",
       "Up   -0.03954635 -0.03132544\n",
       "\n",
       "Coefficients of linear discriminants:\n",
       "            LD1\n",
       "Lag1 -0.6420190\n",
       "Lag2 -0.5135293"
      ]
     },
     "metadata": {},
     "output_type": "display_data"
    }
   ],
   "source": [
    "library(MASS)\n",
    "\n",
    "# Linear Discriminant Analysis\n",
    "lda.fit <- lda(Direction ~ Lag1 + Lag2, data = Smarket, subset = train)\n",
    "lda.fit"
   ]
  },
  {
   "cell_type": "markdown",
   "id": "ae5c7de7-fe4c-475a-9402-f854f76674a9",
   "metadata": {},
   "source": [
    "- Prior probabilities: $\\pi_k$.\n",
    "- Group means: $\\mu_k$.\n",
    "- Coefficients: discrimination function $\\mu^T \\Sigma^{-1} x$ is linear on $x$."
   ]
  },
  {
   "cell_type": "code",
   "execution_count": 19,
   "id": "7a690599-7e28-4f6f-b45e-ed81e4a0f2d4",
   "metadata": {},
   "outputs": [
    {
     "data": {
      "image/png": "[encoded data removed]",
      "text/plain": [
       "plot without title"
      ]
     },
     "metadata": {
      "image/png": {
       "height": 420,
       "width": 420
      }
     },
     "output_type": "display_data"
    }
   ],
   "source": [
    "plot(lda.fit)"
   ]
  },
  {
   "cell_type": "markdown",
   "id": "21404ab3-081a-40e3-9107-524eca7a5114",
   "metadata": {},
   "source": [
    "The distributions of the two classes are very similar."
   ]
  },
  {
   "cell_type": "code",
   "execution_count": 20,
   "id": "2bfe51a0-86a0-4d21-9388-1858a2e20a9f",
   "metadata": {},
   "outputs": [
    {
     "data": {
      "text/html": [
       "0.508016032064128"
      ],
      "text/latex": [
       "0.508016032064128"
      ],
      "text/markdown": [
       "0.508016032064128"
      ],
      "text/plain": [
       "[1] 0.508016"
      ]
     },
     "metadata": {},
     "output_type": "display_data"
    },
    {
     "data": {
      "text/html": [
       "0.491983967935872"
      ],
      "text/latex": [
       "0.491983967935872"
      ],
      "text/markdown": [
       "0.491983967935872"
      ],
      "text/plain": [
       "[1] 0.491984"
      ]
     },
     "metadata": {},
     "output_type": "display_data"
    }
   ],
   "source": [
    "sum(Smarket[train, \"Direction\"] == \"Up\") / sum(train)\n",
    "sum(Smarket[train, \"Direction\"] == \"Down\") / sum(train)"
   ]
  },
  {
   "cell_type": "markdown",
   "id": "73b3380b-3958-489c-8c3d-d47b653c47ac",
   "metadata": {},
   "source": [
    "- The LDA output indicates that $\\pi_1 = 0.492$ and $\\pi_2 = 0.508$; in other words, 49.2% of the training observations correspond to days during which the market went down. \n",
    "- It also provides the group means; these are the average of each predictor within each class, and are used by LDA as estimate of $\\mu_k$. \n",
    "- These suggest that there is a tendency for the previous 2 days returns to be negative on days when the market increases, and a tendency for the previous days’ returns to be positive on days when the market declines."
   ]
  },
  {
   "cell_type": "code",
   "execution_count": 21,
   "id": "3b055387-f1f9-468a-a9f1-24f55f1b45d5",
   "metadata": {},
   "outputs": [
    {
     "data": {
      "text/html": [
       "<style>\n",
       ".list-inline {list-style: none; margin:0; padding: 0}\n",
       ".list-inline>li {display: inline-block}\n",
       ".list-inline>li:not(:last-child)::after {content: \"\\00b7\"; padding: 0 .5ex}\n",
       "</style>\n",
       "<ol class=list-inline><li>'class'</li><li>'posterior'</li><li>'x'</li></ol>\n"
      ],
      "text/latex": [
       "\\begin{enumerate*}\n",
       "\\item 'class'\n",
       "\\item 'posterior'\n",
       "\\item 'x'\n",
       "\\end{enumerate*}\n"
      ],
      "text/markdown": [
       "1. 'class'\n",
       "2. 'posterior'\n",
       "3. 'x'\n",
       "\n",
       "\n"
      ],
      "text/plain": [
       "[1] \"class\"     \"posterior\" \"x\"        "
      ]
     },
     "metadata": {},
     "output_type": "display_data"
    }
   ],
   "source": [
    "lda.pred <- predict(lda.fit, Smarket.2005)\n",
    "names(lda.pred)"
   ]
  },
  {
   "cell_type": "markdown",
   "id": "e9629185-8264-4a06-9433-bc00ed610ba4",
   "metadata": {},
   "source": [
    "- The `predict()` function returns a list with three elements. We focus on the first two.\n",
    "- The first element, `class`, contains LDA’s predictions about the movement of the market.\n",
    "- The second element, `posterior`, is a matrix whose $k$-th column contains the posterior probability that the corresponding observation belongs to the $k$-th class. "
   ]
  },
  {
   "cell_type": "code",
   "execution_count": 22,
   "id": "943f136a-605a-4b07-9948-4b2588fc7204",
   "metadata": {},
   "outputs": [
    {
     "data": {
      "text/html": [
       "<style>\n",
       ".list-inline {list-style: none; margin:0; padding: 0}\n",
       ".list-inline>li {display: inline-block}\n",
       ".list-inline>li:not(:last-child)::after {content: \"\\00b7\"; padding: 0 .5ex}\n",
       "</style>\n",
       "<ol class=list-inline><li>Up</li><li>Up</li><li>Up</li><li>Up</li><li>Up</li><li>Up</li></ol>\n",
       "\n",
       "<details>\n",
       "\t<summary style=display:list-item;cursor:pointer>\n",
       "\t\t<strong>Levels</strong>:\n",
       "\t</summary>\n",
       "\t<style>\n",
       "\t.list-inline {list-style: none; margin:0; padding: 0}\n",
       "\t.list-inline>li {display: inline-block}\n",
       "\t.list-inline>li:not(:last-child)::after {content: \"\\00b7\"; padding: 0 .5ex}\n",
       "\t</style>\n",
       "\t<ol class=list-inline><li>'Down'</li><li>'Up'</li></ol>\n",
       "</details>"
      ],
      "text/latex": [
       "\\begin{enumerate*}\n",
       "\\item Up\n",
       "\\item Up\n",
       "\\item Up\n",
       "\\item Up\n",
       "\\item Up\n",
       "\\item Up\n",
       "\\end{enumerate*}\n",
       "\n",
       "\\emph{Levels}: \\begin{enumerate*}\n",
       "\\item 'Down'\n",
       "\\item 'Up'\n",
       "\\end{enumerate*}\n"
      ],
      "text/markdown": [
       "1. Up\n",
       "2. Up\n",
       "3. Up\n",
       "4. Up\n",
       "5. Up\n",
       "6. Up\n",
       "\n",
       "\n",
       "\n",
       "**Levels**: 1. 'Down'\n",
       "2. 'Up'\n",
       "\n",
       "\n"
      ],
      "text/plain": [
       "[1] Up Up Up Up Up Up\n",
       "Levels: Down Up"
      ]
     },
     "metadata": {},
     "output_type": "display_data"
    },
    {
     "data": {
      "text/html": [
       "<table class=\"dataframe\">\n",
       "<caption>A matrix: 6 × 2 of type dbl</caption>\n",
       "<thead>\n",
       "\t<tr><th></th><th scope=col>Down</th><th scope=col>Up</th></tr>\n",
       "</thead>\n",
       "<tbody>\n",
       "\t<tr><th scope=row>999</th><td>0.4901792</td><td>0.5098208</td></tr>\n",
       "\t<tr><th scope=row>1000</th><td>0.4792185</td><td>0.5207815</td></tr>\n",
       "\t<tr><th scope=row>1001</th><td>0.4668185</td><td>0.5331815</td></tr>\n",
       "\t<tr><th scope=row>1002</th><td>0.4740011</td><td>0.5259989</td></tr>\n",
       "\t<tr><th scope=row>1003</th><td>0.4927877</td><td>0.5072123</td></tr>\n",
       "\t<tr><th scope=row>1004</th><td>0.4938562</td><td>0.5061438</td></tr>\n",
       "</tbody>\n",
       "</table>\n"
      ],
      "text/latex": [
       "A matrix: 6 × 2 of type dbl\n",
       "\\begin{tabular}{r|ll}\n",
       "  & Down & Up\\\\\n",
       "\\hline\n",
       "\t999 & 0.4901792 & 0.5098208\\\\\n",
       "\t1000 & 0.4792185 & 0.5207815\\\\\n",
       "\t1001 & 0.4668185 & 0.5331815\\\\\n",
       "\t1002 & 0.4740011 & 0.5259989\\\\\n",
       "\t1003 & 0.4927877 & 0.5072123\\\\\n",
       "\t1004 & 0.4938562 & 0.5061438\\\\\n",
       "\\end{tabular}\n"
      ],
      "text/markdown": [
       "\n",
       "A matrix: 6 × 2 of type dbl\n",
       "\n",
       "| <!--/--> | Down | Up |\n",
       "|---|---|---|\n",
       "| 999 | 0.4901792 | 0.5098208 |\n",
       "| 1000 | 0.4792185 | 0.5207815 |\n",
       "| 1001 | 0.4668185 | 0.5331815 |\n",
       "| 1002 | 0.4740011 | 0.5259989 |\n",
       "| 1003 | 0.4927877 | 0.5072123 |\n",
       "| 1004 | 0.4938562 | 0.5061438 |\n",
       "\n"
      ],
      "text/plain": [
       "     Down      Up       \n",
       "999  0.4901792 0.5098208\n",
       "1000 0.4792185 0.5207815\n",
       "1001 0.4668185 0.5331815\n",
       "1002 0.4740011 0.5259989\n",
       "1003 0.4927877 0.5072123\n",
       "1004 0.4938562 0.5061438"
      ]
     },
     "metadata": {},
     "output_type": "display_data"
    }
   ],
   "source": [
    "head(lda.pred$class) # This prediction uses 0.5 as the posterior threshold\n",
    "head(lda.pred$posterior)"
   ]
  },
  {
   "cell_type": "code",
   "execution_count": 23,
   "id": "44581732-8158-41b9-988e-a5008c8aca9c",
   "metadata": {},
   "outputs": [
    {
     "data": {
      "text/plain": [
       "      True\n",
       "Pred   Down  Up\n",
       "  Down   35  35\n",
       "  Up     76 106"
      ]
     },
     "metadata": {},
     "output_type": "display_data"
    }
   ],
   "source": [
    "lda.class <- lda.pred$class\n",
    "table(data.frame(Pred = lda.class, True = Direction.2005))"
   ]
  },
  {
   "cell_type": "code",
   "execution_count": 24,
   "id": "715bbe2a-8d49-40ee-80f6-a6485d7b608b",
   "metadata": {},
   "outputs": [
    {
     "name": "stdout",
     "output_type": "stream",
     "text": [
      "The prediction accuracy is 0.5595238 \n"
     ]
    }
   ],
   "source": [
    "cat(\"The prediction accuracy is\", mean(lda.class == Direction.2005), \"\\n\")"
   ]
  },
  {
   "cell_type": "markdown",
   "id": "fcd0a6b4-117f-4268-921a-4e188ebe87f7",
   "metadata": {},
   "source": [
    "- The prediction performance is the same as logistic regression."
   ]
  },
  {
   "cell_type": "code",
   "execution_count": 25,
   "id": "016dd586-d044-4683-976d-0f28bd5e3a8c",
   "metadata": {},
   "outputs": [
    {
     "name": "stderr",
     "output_type": "stream",
     "text": [
      "Setting levels: control = Down, case = Up\n",
      "\n",
      "Setting direction: controls < cases\n",
      "\n"
     ]
    },
    {
     "data": {
      "text/plain": [
       "\n",
       "Call:\n",
       "roc.default(response = Direction.2005, predictor = lda.pred$posterior[,     \"Up\"], plot = TRUE)\n",
       "\n",
       "Data: lda.pred$posterior[, \"Up\"] in 111 controls (Direction.2005 Down) < 141 cases (Direction.2005 Up).\n",
       "Area under the curve: 0.5584"
      ]
     },
     "metadata": {},
     "output_type": "display_data"
    },
    {
     "data": {
      "image/png": "[encoded data removed]",
      "text/plain": [
       "plot without title"
      ]
     },
     "metadata": {
      "image/png": {
       "height": 420,
       "width": 420
      }
     },
     "output_type": "display_data"
    }
   ],
   "source": [
    "roc(Direction.2005, lda.pred$posterior[, \"Up\"], plot = TRUE)"
   ]
  },
  {
   "cell_type": "markdown",
   "id": "2f4316b1-6b2e-41ef-9b32-d9845c8db98a",
   "metadata": {},
   "source": [
    "## QDA\n",
    "We will now fit a QDA model to the Smarket data. QDA is implemented in R using the `qda()` function, which is also part of the `MASS` library. The syntax is identical to that of `lda()`."
   ]
  },
  {
   "cell_type": "code",
   "execution_count": 26,
   "id": "f31b400d-5cd6-4d3e-bf4f-c6f5d5824600",
   "metadata": {},
   "outputs": [
    {
     "data": {
      "text/plain": [
       "Call:\n",
       "qda(Direction ~ Lag1 + Lag2, data = Smarket, subset = train)\n",
       "\n",
       "Prior probabilities of groups:\n",
       "    Down       Up \n",
       "0.491984 0.508016 \n",
       "\n",
       "Group means:\n",
       "            Lag1        Lag2\n",
       "Down  0.04279022  0.03389409\n",
       "Up   -0.03954635 -0.03132544"
      ]
     },
     "metadata": {},
     "output_type": "display_data"
    }
   ],
   "source": [
    "# Quadratic Discriminant Analysis\n",
    "qda.fit <- qda(Direction ~ Lag1 + Lag2, data = Smarket, subset = train)\n",
    "qda.fit"
   ]
  },
  {
   "cell_type": "code",
   "execution_count": 27,
   "id": "8bf176e3-40bc-48f3-a4fd-0604e55d0964",
   "metadata": {},
   "outputs": [
    {
     "data": {
      "text/plain": [
       "      True\n",
       "Pred   Down  Up\n",
       "  Down   30  20\n",
       "  Up     81 121"
      ]
     },
     "metadata": {},
     "output_type": "display_data"
    },
    {
     "name": "stdout",
     "output_type": "stream",
     "text": [
      "The prediction accuracy is now 0.5992063!\n"
     ]
    }
   ],
   "source": [
    "qda.pred <- predict(qda.fit, Smarket.2005)\n",
    "table(data.frame(Pred = qda.pred$class, True = Direction.2005))\n",
    "cat(\"The prediction accuracy is now \", mean(qda.pred$class == Direction.2005), \"!\\n\", sep = \"\")"
   ]
  },
  {
   "cell_type": "code",
   "execution_count": 28,
   "id": "2d6487a3-565b-47c0-b238-c6f1fe050eb2",
   "metadata": {},
   "outputs": [
    {
     "name": "stderr",
     "output_type": "stream",
     "text": [
      "Setting levels: control = Down, case = Up\n",
      "\n",
      "Setting direction: controls < cases\n",
      "\n"
     ]
    },
    {
     "data": {
      "text/plain": [
       "\n",
       "Call:\n",
       "roc.default(response = Direction.2005, predictor = qda.pred$posterior[,     \"Up\"], plot = TRUE)\n",
       "\n",
       "Data: qda.pred$posterior[, \"Up\"] in 111 controls (Direction.2005 Down) < 141 cases (Direction.2005 Up).\n",
       "Area under the curve: 0.562"
      ]
     },
     "metadata": {},
     "output_type": "display_data"
    },
    {
     "data": {
      "image/png": "[encoded data removed]",
      "text/plain": [
       "plot without title"
      ]
     },
     "metadata": {
      "image/png": {
       "height": 420,
       "width": 420
      }
     },
     "output_type": "display_data"
    }
   ],
   "source": [
    "roc(Direction.2005, qda.pred$posterior[, \"Up\"], plot = TRUE)"
   ]
  },
  {
   "cell_type": "markdown",
   "id": "57005166-4939-4bff-8f94-5fcadb4f8271",
   "metadata": {},
   "source": [
    "Interestingly, the QDA predictions are accurate almost 60% of the time, even though the 2005 data was not used to fit the model. This level of accuracy is quite impressive for stock market data, which is known to be quite\n",
    "hard to model accurately.\n",
    "- This suggests that the quadratic form assumed by QDA may capture the true relationship more accurately than the linear forms assumed by LDA and logistic regression. \n",
    "- However, it would be better to evaluate this method’s performance on a larger test set before betting that this approach will consistently beat the market!"
   ]
  },
  {
   "cell_type": "markdown",
   "id": "c2352787-0a72-43ff-ad5b-84be62fa64a7",
   "metadata": {},
   "source": [
    "## K-Nearest Neighbors"
   ]
  },
  {
   "cell_type": "code",
   "execution_count": 29,
   "id": "0eca5ff1-e6b9-4eeb-9432-7a3b1fd69006",
   "metadata": {},
   "outputs": [
    {
     "data": {
      "text/plain": [
       "      True\n",
       "Pred   Down Up\n",
       "  Down   43 58\n",
       "  Up     68 83"
      ]
     },
     "metadata": {},
     "output_type": "display_data"
    },
    {
     "name": "stdout",
     "output_type": "stream",
     "text": [
      "The prediction accuracy is 0.5 \n"
     ]
    }
   ],
   "source": [
    "library(class)\n",
    "\n",
    "train.X <- cbind(Lag1, Lag2)[train, ]\n",
    "test.X <- cbind(Lag1, Lag2)[!train, ]\n",
    "train.Direction <- Direction[train]\n",
    "\n",
    "set.seed(1) # Set seed for tied values\n",
    "knn.pred <- knn(train.X, test.X, train.Direction, k = 1)\n",
    "\n",
    "table(data.frame(Pred = knn.pred, True = Direction.2005))\n",
    "cat(\"The prediction accuracy is\", mean(knn.pred == Direction.2005), \"\\n\")"
   ]
  },
  {
   "cell_type": "markdown",
   "id": "3ca274d8-33e0-4c17-9a0c-a2c24a3ada7d",
   "metadata": {},
   "source": [
    "# Exercise\n",
    "\n",
    "- Try to apply the KNN approach to the `Caravan` data set, which is part of the `ISLR` library. This data set includes 85 predictors that measure demographic characteristics for 5,822 individuals.\n",
    "\n",
    "- Use `Purchase` as response."
   ]
  },
  {
   "cell_type": "code",
   "execution_count": 30,
   "id": "4478b41c-f6ff-45ce-a1cd-0cad716e1d39",
   "metadata": {},
   "outputs": [
    {
     "data": {
      "text/html": [
       "<style>\n",
       ".list-inline {list-style: none; margin:0; padding: 0}\n",
       ".list-inline>li {display: inline-block}\n",
       ".list-inline>li:not(:last-child)::after {content: \"\\00b7\"; padding: 0 .5ex}\n",
       "</style>\n",
       "<ol class=list-inline><li>5822</li><li>86</li></ol>\n"
      ],
      "text/latex": [
       "\\begin{enumerate*}\n",
       "\\item 5822\n",
       "\\item 86\n",
       "\\end{enumerate*}\n"
      ],
      "text/markdown": [
       "1. 5822\n",
       "2. 86\n",
       "\n",
       "\n"
      ],
      "text/plain": [
       "[1] 5822   86"
      ]
     },
     "metadata": {},
     "output_type": "display_data"
    },
    {
     "data": {
      "text/html": [
       "<table class=\"dataframe\">\n",
       "<caption>A data.frame: 6 × 86</caption>\n",
       "<thead>\n",
       "\t<tr><th></th><th scope=col>MOSTYPE</th><th scope=col>MAANTHUI</th><th scope=col>MGEMOMV</th><th scope=col>MGEMLEEF</th><th scope=col>MOSHOOFD</th><th scope=col>MGODRK</th><th scope=col>MGODPR</th><th scope=col>MGODOV</th><th scope=col>MGODGE</th><th scope=col>MRELGE</th><th scope=col>⋯</th><th scope=col>APERSONG</th><th scope=col>AGEZONG</th><th scope=col>AWAOREG</th><th scope=col>ABRAND</th><th scope=col>AZEILPL</th><th scope=col>APLEZIER</th><th scope=col>AFIETS</th><th scope=col>AINBOED</th><th scope=col>ABYSTAND</th><th scope=col>Purchase</th></tr>\n",
       "\t<tr><th></th><th scope=col>&lt;dbl&gt;</th><th scope=col>&lt;dbl&gt;</th><th scope=col>&lt;dbl&gt;</th><th scope=col>&lt;dbl&gt;</th><th scope=col>&lt;dbl&gt;</th><th scope=col>&lt;dbl&gt;</th><th scope=col>&lt;dbl&gt;</th><th scope=col>&lt;dbl&gt;</th><th scope=col>&lt;dbl&gt;</th><th scope=col>&lt;dbl&gt;</th><th scope=col>⋯</th><th scope=col>&lt;dbl&gt;</th><th scope=col>&lt;dbl&gt;</th><th scope=col>&lt;dbl&gt;</th><th scope=col>&lt;dbl&gt;</th><th scope=col>&lt;dbl&gt;</th><th scope=col>&lt;dbl&gt;</th><th scope=col>&lt;dbl&gt;</th><th scope=col>&lt;dbl&gt;</th><th scope=col>&lt;dbl&gt;</th><th scope=col>&lt;fct&gt;</th></tr>\n",
       "</thead>\n",
       "<tbody>\n",
       "\t<tr><th scope=row>1</th><td>33</td><td>1</td><td>3</td><td>2</td><td> 8</td><td>0</td><td>5</td><td>1</td><td>3</td><td>7</td><td>⋯</td><td>0</td><td>0</td><td>0</td><td>1</td><td>0</td><td>0</td><td>0</td><td>0</td><td>0</td><td>No</td></tr>\n",
       "\t<tr><th scope=row>2</th><td>37</td><td>1</td><td>2</td><td>2</td><td> 8</td><td>1</td><td>4</td><td>1</td><td>4</td><td>6</td><td>⋯</td><td>0</td><td>0</td><td>0</td><td>1</td><td>0</td><td>0</td><td>0</td><td>0</td><td>0</td><td>No</td></tr>\n",
       "\t<tr><th scope=row>3</th><td>37</td><td>1</td><td>2</td><td>2</td><td> 8</td><td>0</td><td>4</td><td>2</td><td>4</td><td>3</td><td>⋯</td><td>0</td><td>0</td><td>0</td><td>1</td><td>0</td><td>0</td><td>0</td><td>0</td><td>0</td><td>No</td></tr>\n",
       "\t<tr><th scope=row>4</th><td> 9</td><td>1</td><td>3</td><td>3</td><td> 3</td><td>2</td><td>3</td><td>2</td><td>4</td><td>5</td><td>⋯</td><td>0</td><td>0</td><td>0</td><td>1</td><td>0</td><td>0</td><td>0</td><td>0</td><td>0</td><td>No</td></tr>\n",
       "\t<tr><th scope=row>5</th><td>40</td><td>1</td><td>4</td><td>2</td><td>10</td><td>1</td><td>4</td><td>1</td><td>4</td><td>7</td><td>⋯</td><td>0</td><td>0</td><td>0</td><td>1</td><td>0</td><td>0</td><td>0</td><td>0</td><td>0</td><td>No</td></tr>\n",
       "\t<tr><th scope=row>6</th><td>23</td><td>1</td><td>2</td><td>1</td><td> 5</td><td>0</td><td>5</td><td>0</td><td>5</td><td>0</td><td>⋯</td><td>0</td><td>0</td><td>0</td><td>0</td><td>0</td><td>0</td><td>0</td><td>0</td><td>0</td><td>No</td></tr>\n",
       "</tbody>\n",
       "</table>\n"
      ],
      "text/latex": [
       "A data.frame: 6 × 86\n",
       "\\begin{tabular}{r|lllllllllllllllllllll}\n",
       "  & MOSTYPE & MAANTHUI & MGEMOMV & MGEMLEEF & MOSHOOFD & MGODRK & MGODPR & MGODOV & MGODGE & MRELGE & ⋯ & APERSONG & AGEZONG & AWAOREG & ABRAND & AZEILPL & APLEZIER & AFIETS & AINBOED & ABYSTAND & Purchase\\\\\n",
       "  & <dbl> & <dbl> & <dbl> & <dbl> & <dbl> & <dbl> & <dbl> & <dbl> & <dbl> & <dbl> & ⋯ & <dbl> & <dbl> & <dbl> & <dbl> & <dbl> & <dbl> & <dbl> & <dbl> & <dbl> & <fct>\\\\\n",
       "\\hline\n",
       "\t1 & 33 & 1 & 3 & 2 &  8 & 0 & 5 & 1 & 3 & 7 & ⋯ & 0 & 0 & 0 & 1 & 0 & 0 & 0 & 0 & 0 & No\\\\\n",
       "\t2 & 37 & 1 & 2 & 2 &  8 & 1 & 4 & 1 & 4 & 6 & ⋯ & 0 & 0 & 0 & 1 & 0 & 0 & 0 & 0 & 0 & No\\\\\n",
       "\t3 & 37 & 1 & 2 & 2 &  8 & 0 & 4 & 2 & 4 & 3 & ⋯ & 0 & 0 & 0 & 1 & 0 & 0 & 0 & 0 & 0 & No\\\\\n",
       "\t4 &  9 & 1 & 3 & 3 &  3 & 2 & 3 & 2 & 4 & 5 & ⋯ & 0 & 0 & 0 & 1 & 0 & 0 & 0 & 0 & 0 & No\\\\\n",
       "\t5 & 40 & 1 & 4 & 2 & 10 & 1 & 4 & 1 & 4 & 7 & ⋯ & 0 & 0 & 0 & 1 & 0 & 0 & 0 & 0 & 0 & No\\\\\n",
       "\t6 & 23 & 1 & 2 & 1 &  5 & 0 & 5 & 0 & 5 & 0 & ⋯ & 0 & 0 & 0 & 0 & 0 & 0 & 0 & 0 & 0 & No\\\\\n",
       "\\end{tabular}\n"
      ],
      "text/markdown": [
       "\n",
       "A data.frame: 6 × 86\n",
       "\n",
       "| <!--/--> | MOSTYPE &lt;dbl&gt; | MAANTHUI &lt;dbl&gt; | MGEMOMV &lt;dbl&gt; | MGEMLEEF &lt;dbl&gt; | MOSHOOFD &lt;dbl&gt; | MGODRK &lt;dbl&gt; | MGODPR &lt;dbl&gt; | MGODOV &lt;dbl&gt; | MGODGE &lt;dbl&gt; | MRELGE &lt;dbl&gt; | ⋯ ⋯ | APERSONG &lt;dbl&gt; | AGEZONG &lt;dbl&gt; | AWAOREG &lt;dbl&gt; | ABRAND &lt;dbl&gt; | AZEILPL &lt;dbl&gt; | APLEZIER &lt;dbl&gt; | AFIETS &lt;dbl&gt; | AINBOED &lt;dbl&gt; | ABYSTAND &lt;dbl&gt; | Purchase &lt;fct&gt; |\n",
       "|---|---|---|---|---|---|---|---|---|---|---|---|---|---|---|---|---|---|---|---|---|---|\n",
       "| 1 | 33 | 1 | 3 | 2 |  8 | 0 | 5 | 1 | 3 | 7 | ⋯ | 0 | 0 | 0 | 1 | 0 | 0 | 0 | 0 | 0 | No |\n",
       "| 2 | 37 | 1 | 2 | 2 |  8 | 1 | 4 | 1 | 4 | 6 | ⋯ | 0 | 0 | 0 | 1 | 0 | 0 | 0 | 0 | 0 | No |\n",
       "| 3 | 37 | 1 | 2 | 2 |  8 | 0 | 4 | 2 | 4 | 3 | ⋯ | 0 | 0 | 0 | 1 | 0 | 0 | 0 | 0 | 0 | No |\n",
       "| 4 |  9 | 1 | 3 | 3 |  3 | 2 | 3 | 2 | 4 | 5 | ⋯ | 0 | 0 | 0 | 1 | 0 | 0 | 0 | 0 | 0 | No |\n",
       "| 5 | 40 | 1 | 4 | 2 | 10 | 1 | 4 | 1 | 4 | 7 | ⋯ | 0 | 0 | 0 | 1 | 0 | 0 | 0 | 0 | 0 | No |\n",
       "| 6 | 23 | 1 | 2 | 1 |  5 | 0 | 5 | 0 | 5 | 0 | ⋯ | 0 | 0 | 0 | 0 | 0 | 0 | 0 | 0 | 0 | No |\n",
       "\n"
      ],
      "text/plain": [
       "  MOSTYPE MAANTHUI MGEMOMV MGEMLEEF MOSHOOFD MGODRK MGODPR MGODOV MGODGE MRELGE\n",
       "1 33      1        3       2         8       0      5      1      3      7     \n",
       "2 37      1        2       2         8       1      4      1      4      6     \n",
       "3 37      1        2       2         8       0      4      2      4      3     \n",
       "4  9      1        3       3         3       2      3      2      4      5     \n",
       "5 40      1        4       2        10       1      4      1      4      7     \n",
       "6 23      1        2       1         5       0      5      0      5      0     \n",
       "  ⋯ APERSONG AGEZONG AWAOREG ABRAND AZEILPL APLEZIER AFIETS AINBOED ABYSTAND\n",
       "1 ⋯ 0        0       0       1      0       0        0      0       0       \n",
       "2 ⋯ 0        0       0       1      0       0        0      0       0       \n",
       "3 ⋯ 0        0       0       1      0       0        0      0       0       \n",
       "4 ⋯ 0        0       0       1      0       0        0      0       0       \n",
       "5 ⋯ 0        0       0       1      0       0        0      0       0       \n",
       "6 ⋯ 0        0       0       0      0       0        0      0       0       \n",
       "  Purchase\n",
       "1 No      \n",
       "2 No      \n",
       "3 No      \n",
       "4 No      \n",
       "5 No      \n",
       "6 No      "
      ]
     },
     "metadata": {},
     "output_type": "display_data"
    }
   ],
   "source": [
    "# An Application to Caravan Insurance Data\n",
    "dim(Caravan)\n",
    "head(Caravan)"
   ]
  },
  {
   "cell_type": "code",
   "execution_count": 31,
   "id": "e102a5b6-9bfb-4577-88e9-0c1c92495d50",
   "metadata": {},
   "outputs": [
    {
     "data": {
      "text/html": [
       "165.037847395189"
      ],
      "text/latex": [
       "165.037847395189"
      ],
      "text/markdown": [
       "165.037847395189"
      ],
      "text/plain": [
       "[1] 165.0378"
      ]
     },
     "metadata": {},
     "output_type": "display_data"
    },
    {
     "data": {
      "text/html": [
       "0.164707781931938"
      ],
      "text/latex": [
       "0.164707781931938"
      ],
      "text/markdown": [
       "0.164707781931938"
      ],
      "text/plain": [
       "[1] 0.1647078"
      ]
     },
     "metadata": {},
     "output_type": "display_data"
    },
    {
     "data": {
      "text/html": [
       "0.999999999999986"
      ],
      "text/latex": [
       "0.999999999999986"
      ],
      "text/markdown": [
       "0.999999999999986"
      ],
      "text/plain": [
       "[1] 1"
      ]
     },
     "metadata": {},
     "output_type": "display_data"
    },
    {
     "data": {
      "text/html": [
       "1.0000000000001"
      ],
      "text/latex": [
       "1.0000000000001"
      ],
      "text/markdown": [
       "1.0000000000001"
      ],
      "text/plain": [
       "[1] 1"
      ]
     },
     "metadata": {},
     "output_type": "display_data"
    },
    {
     "data": {
      "text/html": [
       "0.118"
      ],
      "text/latex": [
       "0.118"
      ],
      "text/markdown": [
       "0.118"
      ],
      "text/plain": [
       "[1] 0.118"
      ]
     },
     "metadata": {},
     "output_type": "display_data"
    },
    {
     "data": {
      "text/html": [
       "0.059"
      ],
      "text/latex": [
       "0.059"
      ],
      "text/markdown": [
       "0.059"
      ],
      "text/plain": [
       "[1] 0.059"
      ]
     },
     "metadata": {},
     "output_type": "display_data"
    },
    {
     "data": {
      "text/plain": [
       "        test.Y\n",
       "knn.pred  No Yes\n",
       "     No  873  50\n",
       "     Yes  68   9"
      ]
     },
     "metadata": {},
     "output_type": "display_data"
    },
    {
     "data": {
      "text/html": [
       "0.116883116883117"
      ],
      "text/latex": [
       "0.116883116883117"
      ],
      "text/markdown": [
       "0.116883116883117"
      ],
      "text/plain": [
       "[1] 0.1168831"
      ]
     },
     "metadata": {},
     "output_type": "display_data"
    },
    {
     "data": {
      "text/plain": [
       "        test.Y\n",
       "knn.pred  No Yes\n",
       "     No  920  54\n",
       "     Yes  21   5"
      ]
     },
     "metadata": {},
     "output_type": "display_data"
    },
    {
     "data": {
      "text/html": [
       "0.192307692307692"
      ],
      "text/latex": [
       "0.192307692307692"
      ],
      "text/markdown": [
       "0.192307692307692"
      ],
      "text/plain": [
       "[1] 0.1923077"
      ]
     },
     "metadata": {},
     "output_type": "display_data"
    },
    {
     "data": {
      "text/plain": [
       "        test.Y\n",
       "knn.pred  No Yes\n",
       "     No  930  55\n",
       "     Yes  11   4"
      ]
     },
     "metadata": {},
     "output_type": "display_data"
    },
    {
     "data": {
      "text/html": [
       "0.266666666666667"
      ],
      "text/latex": [
       "0.266666666666667"
      ],
      "text/markdown": [
       "0.266666666666667"
      ],
      "text/plain": [
       "[1] 0.2666667"
      ]
     },
     "metadata": {},
     "output_type": "display_data"
    },
    {
     "name": "stderr",
     "output_type": "stream",
     "text": [
      "Warning message:\n",
      "“glm.fit: fitted probabilities numerically 0 or 1 occurred”\n"
     ]
    },
    {
     "data": {
      "text/plain": [
       "        test.Y\n",
       "glm.pred  No Yes\n",
       "     No  934  59\n",
       "     Yes   7   0"
      ]
     },
     "metadata": {},
     "output_type": "display_data"
    },
    {
     "data": {
      "text/plain": [
       "        test.Y\n",
       "glm.pred  No Yes\n",
       "     No  919  48\n",
       "     Yes  22  11"
      ]
     },
     "metadata": {},
     "output_type": "display_data"
    },
    {
     "data": {
      "text/html": [
       "0.333333333333333"
      ],
      "text/latex": [
       "0.333333333333333"
      ],
      "text/markdown": [
       "0.333333333333333"
      ],
      "text/plain": [
       "[1] 0.3333333"
      ]
     },
     "metadata": {},
     "output_type": "display_data"
    }
   ],
   "source": [
    "attach(Caravan)\n",
    "\n",
    "standardized.X <- scale(Caravan[, -86])\n",
    "var(Caravan[, 1])\n",
    "var(Caravan[, 2])\n",
    "var(standardized.X[, 1])\n",
    "var(standardized.X[, 2])\n",
    "test <- 1:1000\n",
    "train.X <- standardized.X[-test, ]\n",
    "test.X <- standardized.X[test, ]\n",
    "train.Y <- Purchase[-test]\n",
    "test.Y <- Purchase[test]\n",
    "set.seed(1)\n",
    "knn.pred <- knn(train.X, test.X, train.Y, k = 1)\n",
    "mean(test.Y != knn.pred)\n",
    "mean(test.Y != \"No\")\n",
    "table(knn.pred, test.Y)\n",
    "9 / (68 + 9)\n",
    "knn.pred <- knn(train.X, test.X, train.Y, k = 3)\n",
    "table(knn.pred, test.Y)\n",
    "5 / 26\n",
    "knn.pred <- knn(train.X, test.X, train.Y, k = 5)\n",
    "table(knn.pred, test.Y)\n",
    "4 / 15\n",
    "glm.fits <- glm(Purchase ~ ., data = Caravan, family = binomial, subset = -test)\n",
    "glm.probs <- predict(glm.fits, Caravan[test, ], type = \"response\")\n",
    "glm.pred <- rep(\"No\", 1000)\n",
    "glm.pred[glm.probs > .5] <- \"Yes\"\n",
    "table(glm.pred, test.Y)\n",
    "glm.pred <- rep(\"No\", 1000)\n",
    "glm.pred[glm.probs > .25] <- \"Yes\"\n",
    "table(glm.pred, test.Y)\n",
    "11 / (22 + 11)"
   ]
  }
 ],
 "metadata": {
  "kernelspec": {
   "display_name": "R",
   "language": "R",
   "name": "ir"
  },
  "language_info": {
   "codemirror_mode": "r",
   "file_extension": ".r",
   "mimetype": "text/x-r-source",
   "name": "R",
   "pygments_lexer": "r",
   "version": "4.1.2"
  }
 },
 "nbformat": 4,
 "nbformat_minor": 5
}
